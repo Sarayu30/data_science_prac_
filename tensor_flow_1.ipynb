{
 "cells": [
  {
   "cell_type": "code",
   "execution_count": 1,
   "id": "0487e46d-92f3-42e4-b5d3-4697d8c6c4fe",
   "metadata": {},
   "outputs": [
    {
     "name": "stdout",
     "output_type": "stream",
     "text": [
      "2.16.1\n"
     ]
    }
   ],
   "source": [
    "import tensorflow as tf\n",
    "print(tf.__version__)\n"
   ]
  },
  {
   "cell_type": "code",
   "execution_count": 2,
   "id": "f8243ec8-1123-4524-89e9-92c0a37a9d3c",
   "metadata": {},
   "outputs": [
    {
     "name": "stdout",
     "output_type": "stream",
     "text": [
      "C:\\Users\\sarayu krishna\\my_project\\venv\\Scripts\\python.exe\n"
     ]
    }
   ],
   "source": [
    "import sys\n",
    "print(sys.executable)\n"
   ]
  },
  {
   "cell_type": "code",
   "execution_count": 3,
   "id": "11fcee65-5870-4cbc-9434-d869fda0bc60",
   "metadata": {},
   "outputs": [
    {
     "name": "stdout",
     "output_type": "stream",
     "text": [
      "a: tf.Tensor(3.0, shape=(), dtype=float32)\n",
      "b: tf.Tensor(4.0, shape=(), dtype=float32)\n",
      "a + b: tf.Tensor(7.0, shape=(), dtype=float32)\n"
     ]
    }
   ],
   "source": [
    " \n",
    "\n",
    "# Define two constant tensors\n",
    "a = tf.constant(3.0, dtype=tf.float32)\n",
    "b = tf.constant(4.0, dtype=tf.float32)\n",
    "\n",
    "# Define an operation\n",
    "c = tf.add(a, b)\n",
    "\n",
    "# Run the graph\n",
    "print(\"a:\", a)\n",
    "print(\"b:\", b)\n",
    "print(\"a + b:\", c)\n"
   ]
  },
  {
   "cell_type": "code",
   "execution_count": 4,
   "id": "a6ae4f18-7eb8-431f-b1b5-4755a12b4269",
   "metadata": {},
   "outputs": [
    {
     "name": "stdout",
     "output_type": "stream",
     "text": [
      "sum of node1 and node2 is : tf.Tensor(8, shape=(), dtype=int32)\n"
     ]
    }
   ],
   "source": [
    " \n",
    "# creating nodes in computation graph\n",
    "node1 = tf.constant(3, dtype=tf.int32)\n",
    "node2 = tf.constant(5, dtype=tf.int32)\n",
    "node3 = tf.add(node1, node2)\n",
    "\n",
    "# evaluating node3 and printing the result\n",
    "print(\"sum of node1 and node2 is :\", node3)\n",
    "# closing the session\n",
    " "
   ]
  },
  {
   "cell_type": "code",
   "execution_count": 5,
   "id": "03c4d520-c1a2-4dc1-acd8-67a46d73e9e4",
   "metadata": {},
   "outputs": [
    {
     "name": "stdout",
     "output_type": "stream",
     "text": [
      "rank: <bound method _EagerTensorBase.numpy of <tf.Tensor: shape=(), dtype=int32, numpy=0>>\n"
     ]
    }
   ],
   "source": [
    "scalar = 5\n",
    "print(\"rank:\",tf.rank(scalar).numpy)\n"
   ]
  },
  {
   "cell_type": "code",
   "execution_count": 6,
   "id": "347a69cb-10c5-46d6-9dda-059e09981220",
   "metadata": {},
   "outputs": [
    {
     "name": "stdout",
     "output_type": "stream",
     "text": [
      "rank <bound method _EagerTensorBase.numpy of <tf.Tensor: shape=(), dtype=int32, numpy=1>>\n",
      "shape (3,)\n"
     ]
    }
   ],
   "source": [
    "vector=tf.constant([11,1,4])\n",
    "print(\"rank\",tf.rank(vector).numpy)\n",
    "print(\"shape\",vector.shape)"
   ]
  },
  {
   "cell_type": "code",
   "execution_count": 7,
   "id": "ce6b6dd2-9488-4201-9b7b-51803678cb35",
   "metadata": {},
   "outputs": [
    {
     "name": "stdout",
     "output_type": "stream",
     "text": [
      "\n",
      "3D Tensor:\n",
      "Rank: 3\n",
      "Shape: (3, 2, 2)\n"
     ]
    }
   ],
   "source": [
    "# 3D Tensor\n",
    "tensor_3d = tf.constant([[[1, 2], [3, 4]], [[5, 6], [7, 8]], [[9, 10], [11, 12]]])\n",
    "print(\"\\n3D Tensor:\")\n",
    "print(\"Rank:\", tf.rank(tensor_3d).numpy())\n",
    "print(\"Shape:\", tensor_3d.shape)"
   ]
  },
  {
   "cell_type": "code",
   "execution_count": 8,
   "id": "efbadac6-bd71-4b41-bc8a-083328185f00",
   "metadata": {},
   "outputs": [
    {
     "name": "stdout",
     "output_type": "stream",
     "text": [
      "\n",
      "4D Tensor:\n",
      "Rank: 4\n",
      "Shape: (2, 2, 2, 2)\n"
     ]
    }
   ],
   "source": [
    "tensor_4d = tf.constant([[[[1, 2], [3, 4]], [[5, 6], [7, 8]]], [[[9, 10], [11, 12]], [[13, 14], [15, 16]]]])\n",
    "print(\"\\n4D Tensor:\")\n",
    "print(\"Rank:\", tf.rank(tensor_4d).numpy())\n",
    "print(\"Shape:\", tensor_4d.shape)"
   ]
  },
  {
   "cell_type": "code",
   "execution_count": 9,
   "id": "62dc72c7-3109-44be-83ae-71b8af296398",
   "metadata": {},
   "outputs": [
    {
     "name": "stdout",
     "output_type": "stream",
     "text": [
      "Addition Result: 4\n",
      "Multiplication Result: [ 1  4  9 16]\n"
     ]
    }
   ],
   "source": [
    " \n",
    "\n",
    "# Define constants\n",
    "const_scalar = tf.constant(2)\n",
    "const_vector = tf.constant([1, 2, 3, 4])\n",
    "const_matrix = tf.constant([[1, 2], [3, 4]])\n",
    "\n",
    "# Define variables\n",
    "var_scalar = tf.Variable(2)\n",
    "var_vector = tf.Variable([1, 2, 3, 4])\n",
    "var_matrix = tf.Variable([[1, 2], [3, 4]])\n",
    "\n",
    "# Operations with constants and variables\n",
    "add_result = const_scalar + var_scalar\n",
    "mul_result = const_vector * var_vector\n",
    "\n",
    "# Print results\n",
    "print(\"Addition Result:\", add_result.numpy())\n",
    "print(\"Multiplication Result:\", mul_result.numpy())\n"
   ]
  },
  {
   "cell_type": "code",
   "execution_count": 10,
   "id": "3c2bc7bc-aa16-4a8e-914c-82b99700f98f",
   "metadata": {},
   "outputs": [],
   "source": [
    "# Define a constant\n",
    "const_a = tf.constant(5.0, name=\"const_a\")\n",
    "\n",
    "# Define a variable\n",
    "var_b = tf.Variable(3.0, name=\"var_b\")\n"
   ]
  },
  {
   "cell_type": "code",
   "execution_count": 11,
   "id": "ea098e7f-ce86-4102-956e-04f713f25fe0",
   "metadata": {},
   "outputs": [
    {
     "name": "stdout",
     "output_type": "stream",
     "text": [
      "Error when trying to modify a constant: 'tensorflow.python.framework.ops.EagerTensor' object has no attribute 'assign'\n",
      "Modified variable var_b: 10.0\n"
     ]
    }
   ],
   "source": [
    "# Trying to modify the constant value will raise an error\n",
    "try:\n",
    "    const_a.assign(10.0)  # This will raise an error\n",
    "except AttributeError as e:\n",
    "    print(f\"Error when trying to modify a constant: {e}\")\n",
    "\n",
    "# Modify the variable value\n",
    "var_b.assign(10.0)\n",
    "print(\"Modified variable var_b:\", var_b.numpy())\n"
   ]
  },
  {
   "cell_type": "code",
   "execution_count": 12,
   "id": "86532024-0ae9-4789-8321-71c32121a89b",
   "metadata": {},
   "outputs": [
    {
     "name": "stdout",
     "output_type": "stream",
     "text": [
      "Result of constant operation (const_a * const_c): 10.0\n",
      "Result of variable operation (var_b * var_d): 40.0\n"
     ]
    }
   ],
   "source": [
    "# Define another constant and variable\n",
    "const_c = tf.constant(2.0, name=\"const_c\")\n",
    "var_d = tf.Variable(4.0, name=\"var_d\")\n",
    "\n",
    "# Perform operations\n",
    "result_const = const_a * const_c  # Constant * Constant\n",
    "result_var = var_b * var_d        # Variable * Variable\n",
    "\n",
    "print(\"Result of constant operation (const_a * const_c):\", result_const.numpy())\n",
    "print(\"Result of variable operation (var_b * var_d):\", result_var.numpy())\n"
   ]
  },
  {
   "cell_type": "code",
   "execution_count": 13,
   "id": "14c2b4fb-0879-4a09-9d7e-036e2ad0ea06",
   "metadata": {},
   "outputs": [
    {
     "name": "stdout",
     "output_type": "stream",
     "text": [
      "Original Shape: (2, 3)\n",
      "Reshaped Tensor: tf.Tensor(\n",
      "[[1 2]\n",
      " [3 4]\n",
      " [5 6]], shape=(3, 2), dtype=int32)\n",
      "Reshaped Shape: (3, 2)\n"
     ]
    }
   ],
   "source": [
    "import tensorflow as tf\n",
    "\n",
    "# Create a tensor\n",
    "tensor = tf.constant([[1, 2, 3], [4, 5, 6]])\n",
    "\n",
    "# Print the original shape\n",
    "print(\"Original Shape:\", tensor.shape)\n",
    "\n",
    "# Reshape the tensor to a different shape\n",
    "reshaped_tensor = tf.reshape(tensor, [3, 2])\n",
    "\n",
    "# Print the reshaped tensor and its shape\n",
    "print(\"Reshaped Tensor:\", reshaped_tensor)\n",
    "print(\"Reshaped Shape:\", reshaped_tensor.shape)\n"
   ]
  },
  {
   "cell_type": "code",
   "execution_count": 14,
   "id": "7577fe0a-bb55-4948-8af4-d8c2cf1f91df",
   "metadata": {},
   "outputs": [],
   "source": [
    "tensor1 = tf.ones([1,2,3])  # tf.ones() creates a shape [1,2,3] tensor full of ones\n",
    "tensor2 = tf.reshape(tensor1, [2,3,1])  # reshape existing data to shape [2,3,1]\n",
    "tensor3 = tf.reshape(tensor2, [3, -1])  # -1 tells the tensor to calculate the size of the dimension in that place\n",
    "                                        # this will reshape the tensor to [3,3]"
   ]
  },
  {
   "cell_type": "code",
   "execution_count": 15,
   "id": "a298458c-7f7e-48d3-8502-12106cf767d7",
   "metadata": {},
   "outputs": [
    {
     "name": "stdout",
     "output_type": "stream",
     "text": [
      "tf.Tensor(\n",
      "[[[1. 1. 1.]\n",
      "  [1. 1. 1.]]], shape=(1, 2, 3), dtype=float32)\n",
      "tf.Tensor(\n",
      "[[[1.]\n",
      "  [1.]\n",
      "  [1.]]\n",
      "\n",
      " [[1.]\n",
      "  [1.]\n",
      "  [1.]]], shape=(2, 3, 1), dtype=float32)\n",
      "tf.Tensor(\n",
      "[[1. 1.]\n",
      " [1. 1.]\n",
      " [1. 1.]], shape=(3, 2), dtype=float32)\n"
     ]
    }
   ],
   "source": [
    "print(tensor1)\n",
    "print(tensor2)\n",
    "print(tensor3)\n",
    "# Notice the changes in shape"
   ]
  },
  {
   "cell_type": "markdown",
   "id": "9f7c5f2c-3637-4949-a772-ef4e85667ead",
   "metadata": {},
   "source": [
    " <br>*"
   ]
  },
  {
   "cell_type": "markdown",
   "id": "869c39ec-9917-4065-bf99-cb464a2774d5",
   "metadata": {},
   "source": [
    "\n",
    "**SLICING**"
   ]
  },
  {
   "cell_type": "code",
   "execution_count": 16,
   "id": "07a6ad41-16d8-4b10-8316-7cf9b5c7ee5a",
   "metadata": {},
   "outputs": [
    {
     "name": "stdout",
     "output_type": "stream",
     "text": [
      "Original Tensor:\n",
      "tf.Tensor(\n",
      "[[1 2 3]\n",
      " [4 5 6]\n",
      " [7 8 9]], shape=(3, 3), dtype=int32)\n",
      "\n",
      "Slice 1 (first two rows and all columns):\n",
      "tf.Tensor(\n",
      "[[1 2 3]\n",
      " [4 5 6]], shape=(2, 3), dtype=int32)\n",
      "\n",
      "Slice 2 (last two columns of the second row):\n",
      "tf.Tensor([5 6], shape=(2,), dtype=int32)\n",
      "\n",
      "Slice 3 (last row and first two columns):\n",
      "tf.Tensor([7 8], shape=(2,), dtype=int32)\n",
      "\n",
      "Slice 4 (center 2x2 matrix):\n",
      "tf.Tensor(\n",
      "[[5 6]\n",
      " [8 9]], shape=(2, 2), dtype=int32)\n"
     ]
    }
   ],
   "source": [
    " \n",
    "\n",
    "# Create a 3x3 tensor\n",
    "tensor = tf.constant([[1, 2, 3], [4, 5, 6], [7, 8, 9]])\n",
    "\n",
    "print(\"Original Tensor:\")\n",
    "print(tensor)\n",
    "\n",
    "# Slice to get the first two rows and all columns\n",
    "slice1 = tensor[:2, :]\n",
    "print(\"\\nSlice 1 (first two rows and all columns):\")\n",
    "print(slice1)\n",
    "\n",
    "# Slice to get the last two columns of the second row\n",
    "slice2 = tensor[1, 1:]\n",
    "print(\"\\nSlice 2 (last two columns of the second row):\")\n",
    "print(slice2)\n",
    "\n",
    "# Slice to get the last row and the first two columns\n",
    "slice3 = tensor[2, :2]\n",
    "print(\"\\nSlice 3 (last row and first two columns):\")\n",
    "print(slice3)\n",
    "\n",
    "# Slice to get a submatrix (e.g., center 2x2 matrix)\n",
    "slice4 = tensor[1:3, 1:3]\n",
    "print(\"\\nSlice 4 (center 2x2 matrix):\")\n",
    "print(slice4)\n"
   ]
  },
  {
   "cell_type": "markdown",
   "id": "b5f86a5d-4ebc-46f2-9680-9267fa096702",
   "metadata": {},
   "source": []
  }
 ],
 "metadata": {
  "kernelspec": {
   "display_name": "Python (venv)",
   "language": "python",
   "name": "myenv"
  },
  "language_info": {
   "codemirror_mode": {
    "name": "ipython",
    "version": 3
   },
   "file_extension": ".py",
   "mimetype": "text/x-python",
   "name": "python",
   "nbconvert_exporter": "python",
   "pygments_lexer": "ipython3",
   "version": "3.12.0"
  }
 },
 "nbformat": 4,
 "nbformat_minor": 5
}
